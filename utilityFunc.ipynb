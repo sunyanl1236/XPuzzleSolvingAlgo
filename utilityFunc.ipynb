{
 "metadata": {
  "language_info": {
   "codemirror_mode": {
    "name": "ipython",
    "version": 3
   },
   "file_extension": ".py",
   "mimetype": "text/x-python",
   "name": "python",
   "nbconvert_exporter": "python",
   "pygments_lexer": "ipython3",
   "version": 3
  },
  "orig_nbformat": 2
 },
 "nbformat": 4,
 "nbformat_minor": 2,
 "cells": [
  {
   "cell_type": "code",
   "execution_count": null,
   "metadata": {},
   "outputs": [],
   "source": [
    "import numpy as np\n",
    "from copy import copy, deepcopy\n",
    "import queue"
   ]
  },
  {
   "cell_type": "code",
   "execution_count": null,
   "metadata": {},
   "outputs": [],
   "source": [
    "# movement functions\n",
    "\n",
    "# check if the empty tile is at a corner position\n",
    "# puzzle_dim_shape: a tuple, the dimension of puzzle ndarray. \n",
    "#                   eg. (2, 4) --> 2*4 multi-dimentional array\n",
    "# elt_position: ndarray, the position index of specific element. \n",
    "#                   eg. [[0 2]] --> element 0 is at puzzle[0][2]\n",
    "def is_corner(puzzle_dim_shape, elt_position):\n",
    "    if elt_position[0][1] == (puzzle_dim_shape[1] - 1) or elt_position[0][1] == 0: # elt is at right corner\n",
    "        if elt_position[0][0] == (puzzle_dim_shape[0] - 1) or elt_position[0][0] == 0:\n",
    "            return True\n",
    "    return False\n",
    "\n",
    "# print(is_corner(puzzle_dim_shape, sol)) #test"
   ]
  },
  {
   "cell_type": "code",
   "execution_count": null,
   "metadata": {},
   "outputs": [],
   "source": [
    "# rule 1, cost 1\n",
    "# return ndarray\n",
    "def regular_move(puzzle_dim_shape, elt_position, puzzle, direction):\n",
    "    puzzle = deepcopy(puzzle)\n",
    "    if direction == \"up\":\n",
    "        moved_index = np.array([(elt_position[0][0] - 1), elt_position[0][1]])\n",
    "    elif direction == \"down\":\n",
    "        moved_index = np.array([(elt_position[0][0] + 1), elt_position[0][1]])\n",
    "    elif direction == \"left\":\n",
    "        moved_index = np.array([elt_position[0][0], (elt_position[0][1] - 1)])\n",
    "    elif direction == \"right\":\n",
    "        moved_index = np.array([elt_position[0][0], (elt_position[0][1] + 1)])\n",
    "    else:\n",
    "        return None\n",
    "    # print(moved_index)\n",
    "\n",
    "    if moved_index[0] >= 0 and moved_index[0] < puzzle_dim_shape[0] and moved_index[1] >= 0 and moved_index[1] < puzzle_dim_shape[1]:\n",
    "        # swap elements\n",
    "        puzzle[moved_index[0], moved_index[1]], puzzle[elt_position[0][0], elt_position[0][1]] = puzzle[elt_position[0][0], elt_position[0][1]], puzzle[moved_index[0], moved_index[1]]\n",
    "        return deepcopy(puzzle)\n",
    "    return None"
   ]
  },
  {
   "cell_type": "code",
   "execution_count": null,
   "metadata": {},
   "outputs": [],
   "source": [
    "# rule 2, cost 2\n",
    "# return ndarray\n",
    "def wrapping_move(puzzle_dim_shape, elt_position, puzzle):\n",
    "    puzzle = deepcopy(puzzle)\n",
    "    # if empty tile is at corner \n",
    "    second_dim_index = puzzle_dim_shape[1] - 1\n",
    "    if is_corner(puzzle_dim_shape, elt_position):\n",
    "        if elt_position[0][1] == 0:\n",
    "            puzzle[elt_position[0][0], elt_position[0][1]], puzzle[elt_position[0][0], second_dim_index] = puzzle[elt_position[0][0], second_dim_index], puzzle[elt_position[0][0], elt_position[0][1]]\n",
    "        else:\n",
    "            puzzle[elt_position[0][0], elt_position[0][1]], puzzle[elt_position[0][0], 0] = puzzle[elt_position[0][0], 0], puzzle[elt_position[0][0], elt_position[0][1]]\n",
    "        return deepcopy(puzzle)\n",
    "    return None"
   ]
  },
  {
   "cell_type": "code",
   "execution_count": null,
   "metadata": {},
   "outputs": [],
   "source": [
    "# rule 3 part 1, cost 3\n",
    "def opposed_diagonally_move(puzzle_dim_shape, elt_position, puzzle):\n",
    "    puzzle = deepcopy(puzzle)\n",
    "    first_dim_index = puzzle_dim_shape[0] - 1\n",
    "    second_dim_index = puzzle_dim_shape[1] - 1\n",
    "    moved_index = np.array(puzzle_dim_shape)\n",
    "    # print(\"before initialization\", moved_index)\n",
    "    \n",
    "    if is_corner(puzzle_dim_shape, elt_position):\n",
    "        if elt_position[0][0] == 0:\n",
    "            moved_index[0] = first_dim_index\n",
    "        else:\n",
    "            moved_index[0] = 0\n",
    "        \n",
    "        if elt_position[0][1] == 0:\n",
    "            moved_index[1] = second_dim_index\n",
    "        else:\n",
    "            moved_index[1] = 0\n",
    "        # print(\"after initialization\", moved_index)\n",
    "        \n",
    "        #swap elements\n",
    "        puzzle[elt_position[0][0], elt_position[0][1]], puzzle[moved_index[0], moved_index[1]] = puzzle[moved_index[0], moved_index[1]], puzzle[elt_position[0][0], elt_position[0][1]]\n",
    "        return deepcopy(puzzle)\n",
    "    return None"
   ]
  },
  {
   "cell_type": "code",
   "execution_count": null,
   "metadata": {},
   "outputs": [],
   "source": [
    "# rule 3 part 2, cost 3\n",
    "def adjacent_diagonally_move(puzzle_dim_shape, elt_position, puzzle):\n",
    "    puzzle = deepcopy(puzzle)\n",
    "    moved_index = np.array(puzzle_dim_shape)\n",
    "    if is_corner(puzzle_dim_shape, elt_position):\n",
    "        if elt_position[0][1] == 0:\n",
    "            moved_index[1] = elt_position[0][1] + 1\n",
    "        else:\n",
    "            moved_index[1] = elt_position[0][1] - 1\n",
    "\n",
    "        if elt_position[0][0] == 0:\n",
    "            moved_index[0] = elt_position[0][0] + 1\n",
    "        else:\n",
    "            moved_index[0] = elt_position[0][0] - 1\n",
    "        # print(\"after initialization\", moved_index)\n",
    "\n",
    "        #swap elements\n",
    "        puzzle[elt_position[0][0], elt_position[0][1]], puzzle[moved_index[0], moved_index[1]] = puzzle[moved_index[0], moved_index[1]], puzzle[elt_position[0][0], elt_position[0][1]]\n",
    "        return deepcopy(puzzle)\n",
    "    return None"
   ]
  }
 ]
}