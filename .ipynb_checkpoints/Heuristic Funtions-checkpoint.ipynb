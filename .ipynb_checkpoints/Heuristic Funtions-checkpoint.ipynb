{
 "cells": [
  {
   "cell_type": "code",
   "execution_count": 28,
   "metadata": {},
   "outputs": [],
   "source": [
    "import numpy as np\n",
    "%run utilityFunc.ipynb"
   ]
  },
  {
   "cell_type": "code",
   "execution_count": 52,
   "metadata": {},
   "outputs": [],
   "source": [
    "# heuristic function 1\n",
    "# Enhanced Manhattan distance, if the empty tile is not at corners use the usual Manhattan distance\n",
    "# if the empty tile is at the corners then apply rule 2 or rule 3 as well as usual Manhattan distance then find minimum of them\n",
    "\n",
    "def enhanced_Manhattan(puzzle, goalState):\n",
    "    distance_sum_1 = 0\n",
    "    distance_sum_2 = 0\n",
    "    x,y = puzzle.shape\n",
    "    shape = puzzle.shape\n",
    "    empty_tile_position = np.argwhere(puzzle == 0)\n",
    "    # Checking if the empty tile is at the corner\n",
    "    if is_corner(shape,empty_tile_position):\n",
    "        # calculating normal manhattan distance & including rule 2, rule 3\n",
    "        swappablePositions = generateSwappablePositions(empty_tile_position,shape)\n",
    "        for i in range(x):\n",
    "            for j in range(y):\n",
    "                current_value = puzzle[i][j]\n",
    "                if current_value != 0:\n",
    "                    position_in_goal_state = np.argwhere(goalState == current_value)\n",
    "                    if [i,j] in swappablePositions:\n",
    "                        cost1 = 1 + abs((position_in_goal_state[0][0] - empty_tile_position[0][0])) + abs((position_in_goal_state[0][1] - empty_tile_position[0][1]))\n",
    "                        cost2 = current_distance = abs((position_in_goal_state[0][0] - i)) + abs((position_in_goal_state[0][1] - j))\n",
    "                        minCost = min(cost1,cost2)\n",
    "                        distance_sum_2 += minCost\n",
    "                    else:\n",
    "                        current_distance = abs((position_in_goal_state[0][0] - i)) + abs((position_in_goal_state[0][1] - j))\n",
    "                        distance_sum_2 += current_distance\n",
    "        return distance_sum_2\n",
    "        \n",
    "    else:\n",
    "        # calculating normal manhattan distance\n",
    "        for i in range(x):\n",
    "            for j in range(y):\n",
    "                current_value = puzzle[i][j]\n",
    "                if current_value != 0:\n",
    "                    position_in_goal_state = np.argwhere(goalState == current_value)\n",
    "                    current_distance = abs((position_in_goal_state[0][0] - i)) + abs((position_in_goal_state[0][1] - j))\n",
    "                    distance_sum_1 += current_distance\n",
    "        return distance_sum_1\n",
    "\n",
    "       \n",
    "def generateSwappablePositions(empty_tile_position, shape):\n",
    "    position = []\n",
    "    if empty_tile_position[0][0] == 0 and empty_tile_position[0][1] == 0:\n",
    "        position.append([0+1,0+1])\n",
    "        position.append([0,shape[1]-1])\n",
    "        position.append([shape[0]-1,shape[1]-1])\n",
    "        return position\n",
    "    if empty_tile_position[0][0] == 0 and empty_tile_position[0][1] == shape[1]-1:\n",
    "        position.append([0+1,shape[1]-1-1])\n",
    "        position.append([0,0])\n",
    "        position.append([shape[0]-1,0])\n",
    "        return position\n",
    "    if empty_tile_position[0][0] == shape[0]-1 and empty_tile_position[0][1] == 0:\n",
    "        position.append([shape[0]-1-1,0+1])\n",
    "        position.append([shape[0]-1,shape[1]-1])\n",
    "        position.append([0,shape[1]-1])\n",
    "        return position\n",
    "    if empty_tile_position[0][0] == shape[0]-1 and empty_tile_position[0][1] == shape[1]-1:\n",
    "        position.append([0,0])\n",
    "        position.append([shape[0]-1-1,shape[1]-1-1])\n",
    "        position.append([shape[0]-1,0])\n",
    "        return position"
   ]
  },
  {
   "cell_type": "code",
   "execution_count": 55,
   "metadata": {},
   "outputs": [
    {
     "name": "stdout",
     "output_type": "stream",
     "text": [
      "0\n"
     ]
    }
   ],
   "source": [
    "arr = np.array([[1,2,3,4],[5,6,7,0]])\n",
    "goal = np.array([[1,2,3,4],[5,6,7,0]])\n",
    "print(enhanced_Manhattan(arr,goal))\n",
    "\n"
   ]
  }
 ],
 "metadata": {
  "kernelspec": {
   "display_name": "Python 3",
   "language": "python",
   "name": "python3"
  },
  "language_info": {
   "codemirror_mode": {
    "name": "ipython",
    "version": 3
   },
   "file_extension": ".py",
   "mimetype": "text/x-python",
   "name": "python",
   "nbconvert_exporter": "python",
   "pygments_lexer": "ipython3",
   "version": "3.8.3"
  }
 },
 "nbformat": 4,
 "nbformat_minor": 4
}
