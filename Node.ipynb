{
 "cells": [
  {
   "cell_type": "code",
   "execution_count": 1,
   "metadata": {},
   "outputs": [],
   "source": [
    "class Node:\n",
    "    def __init__(self, puzzle, parent_puzzle, h_val, g_val):\n",
    "        self.puzzle = puzzle\n",
    "        self.parent_puzzle = parent_puzzle\n",
    "        self.h_val = h_val\n",
    "        self.g_val = g_val\n",
    "        self.f_val = g_val + h_val\n",
    "\n",
    "    def __lt__(self, other):\n",
    "        return False\n",
    "\n",
    "    def __eq__(self, other):\n",
    "        return (self.puzzle == other.puzzle).all()\n",
    "\n",
    "    def __hash__(self):\n",
    "        return hash(tuple(self.puzzle.flatten()))\n",
    "    \n",
    "    def get_current_puzzle(self):\n",
    "        return self.puzzle\n",
    "\n",
    "    def get_current_node(self):\n",
    "        return self\n",
    "    \n",
    "    def get_h_val(self):\n",
    "        return self.h_val\n",
    "    \n",
    "    def get_g_val(self):\n",
    "        return self.g_val\n",
    "    \n",
    "    def get_f_val(self):\n",
    "        return self.f_val\n",
    "\n",
    "    def __repr__(self):\n",
    "        return \"Node(current puzzle={0}, parent_puzzle={1}, h(node)={2}, g(node)={3}, f(node)={4})\".format(self.puzzle, self.parent_puzzle, self.h_val, self.g_val, self.get_f_val())"
   ]
  },
  {
   "cell_type": "code",
   "execution_count": 2,
   "metadata": {},
   "outputs": [],
   "source": [
    "# import numpy as np\n",
    "\n",
    "# x = np.array([[1,2,3], [4,5,6]])\n",
    "# y = np.array([[1,2,3], [4,5,6]])\n",
    "# print((x==y).all())\n",
    "# print all([x[i]==y[i] for i in range(len(x))])"
   ]
  },
  {
   "cell_type": "code",
   "execution_count": null,
   "metadata": {},
   "outputs": [],
   "source": []
  }
 ],
 "metadata": {
  "kernelspec": {
   "display_name": "Python 3",
   "language": "python",
   "name": "python3"
  },
  "language_info": {
   "codemirror_mode": {
    "name": "ipython",
    "version": 3
   },
   "file_extension": ".py",
   "mimetype": "text/x-python",
   "name": "python",
   "nbconvert_exporter": "python",
   "pygments_lexer": "ipython3",
   "version": "3.8.3"
  }
 },
 "nbformat": 4,
 "nbformat_minor": 2
}