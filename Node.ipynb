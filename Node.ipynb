{
 "metadata": {
  "language_info": {
   "codemirror_mode": {
    "name": "ipython",
    "version": 3
   },
   "file_extension": ".py",
   "mimetype": "text/x-python",
   "name": "python",
   "nbconvert_exporter": "python",
   "pygments_lexer": "ipython3",
   "version": "3.8.3-final"
  },
  "orig_nbformat": 2,
  "kernelspec": {
   "name": "Python 3.8.3 64-bit (conda)",
   "display_name": "Python 3.8.3 64-bit (conda)",
   "metadata": {
    "interpreter": {
     "hash": "579282893146967bc5d17141c601e8a8b8ad4a0a2a5a6fe1c87b1000077400d7"
    }
   }
  }
 },
 "nbformat": 4,
 "nbformat_minor": 2,
 "cells": [
  {
   "cell_type": "code",
   "execution_count": 1,
   "metadata": {},
   "outputs": [],
   "source": [
    "class Node:\n",
    "    def __init__(self, puzzle, parent_puzzle, h_val):\n",
    "        self.puzzle = puzzle\n",
    "        self.parent_puzzle = parent_puzzle\n",
    "        self.h_val = h_val\n",
    "\n",
    "    def __lt__(self, other):\n",
    "        return False\n",
    "\n",
    "    def __eq__(self, other):\n",
    "        return True\n",
    "\n",
    "    def __repr__(self):\n",
    "        return \"Node(current puzzle={0}, parent_puzzle={1}, heuristic value={2})\".format(self.puzzle, self.parent_puzzle, self.h_val)"
   ]
  }
 ]
}