{
 "metadata": {
  "language_info": {
   "codemirror_mode": {
    "name": "ipython",
    "version": 3
   },
   "file_extension": ".py",
   "mimetype": "text/x-python",
   "name": "python",
   "nbconvert_exporter": "python",
   "pygments_lexer": "ipython3",
   "version": "3.8.3-final"
  },
  "orig_nbformat": 2,
  "kernelspec": {
   "name": "python3",
   "display_name": "Python 3"
  }
 },
 "nbformat": 4,
 "nbformat_minor": 2,
 "cells": [
  {
   "cell_type": "code",
   "execution_count": 79,
   "metadata": {},
   "outputs": [],
   "source": [
    "import numpy as np\n",
    "from operator import attrgetter\n",
    "%run Node.ipynb"
   ]
  },
  {
   "cell_type": "code",
   "execution_count": 80,
   "metadata": {},
   "outputs": [],
   "source": [
    "# implement P.Q using list\n",
    "# implement customized put() based on algo_type\n",
    "class CustomizedPriotiryQueue:\n",
    "    # algo_type: uniform_cost, GBFS, aStar\n",
    "    def __init__(self, algo_type):\n",
    "        self.puzzle_list = []\n",
    "        self.algo_type = algo_type\n",
    "\n",
    "    def put(self, node):\n",
    "        #check duplicate\n",
    "        has_duplicate = False\n",
    "        \n",
    "        for idx, obj in enumerate(self.puzzle_list):\n",
    "            if node.__eq__(obj):\n",
    "                has_duplicate = True\n",
    "                # print(\"has duplicate at index: \", idx)\n",
    "                \n",
    "                # compare cost/h/f and replace node\n",
    "                if self.algo_type == \"uniform_cost\" and obj.get_g_val() > node.get_g_val():\n",
    "                    self.puzzle_list[idx] = node\n",
    "                elif self.algo_type == \"GBFS\" and obj.get_h_val() > node.get_h_val():\n",
    "                    self.puzzle_list[idx] = node\n",
    "                elif self.algo_type == \"aStar\" and obj.get_f_val() > node.get_f_val():\n",
    "                    self.puzzle_list[idx] = node\n",
    "                else:\n",
    "                    print(\"Don't need replace\")\n",
    "        \n",
    "        # if don't have duplicate\n",
    "        if not has_duplicate:\n",
    "            self.puzzle_list.append(node)\n",
    "        \n",
    "        # sort the current puzzle_list\n",
    "        # print(\"===========sort list\")\n",
    "        if self.algo_type == \"uniform_cost\":\n",
    "            self.puzzle_list.sort(key = attrgetter('g_val'))\n",
    "        elif self.algo_type == \"GBFS\":\n",
    "            self.puzzle_list.sort(key = attrgetter('h_val'))\n",
    "        elif self.algo_type == \"aStar\":\n",
    "            self.puzzle_list.sort(key = attrgetter('f_val'))\n",
    "        else:\n",
    "            print(\"Wrong algo_type\")\n",
    "\n",
    "    def get(self):\n",
    "        return self.puzzle_list.pop(0)\n",
    "\n",
    "    def __repr__(self):\n",
    "        str = \"puzzle_list:\\n\"\n",
    "        for obj in enumerate(self.puzzle_list):\n",
    "            str += obj.__repr__() + \"\\n\"\n",
    "        return str"
   ]
  },
  {
   "source": [
    "# test\n",
    "\n",
    "# node1 = Node(np.array([[1,2,3,4],[5,6,7,0]]), None, 1, 3)\n",
    "# node2 = Node(np.array([[5,2,7,4],[1,6,3,0]]), None, 2, 2)\n",
    "# node3 = Node(np.array([[1,2,3,4],[5,6,7,0]]), None, 3, 1)\n",
    "\n",
    "# self_set = CustomizedPriotiryQueue(\"GBFS\")\n",
    "# self_set.put(node1)\n",
    "# print(self_set)\n",
    "\n",
    "# self_set.put(node2)\n",
    "# print(self_set)\n",
    "\n",
    "# self_set.put(node3)\n",
    "# print(self_set)\n",
    "\n",
    "# node = self_set.get()\n",
    "# print(\"get: \",node)\n",
    "# print(self_set)\n",
    "\n",
    "\n",
    "\n",
    "\n"
   ],
   "cell_type": "code",
   "metadata": {},
   "execution_count": 83,
   "outputs": [
    {
     "output_type": "stream",
     "name": "stdout",
     "text": [
      "===========sort list\npuzzle_list:\n(0, Node(current puzzle=[[1 2 3 4]\n [5 6 7 0]], parent_puzzle=None, h(node)=1, g(node)=3, f(node)=4))\n\n===========sort list\npuzzle_list:\n(0, Node(current puzzle=[[1 2 3 4]\n [5 6 7 0]], parent_puzzle=None, h(node)=1, g(node)=3, f(node)=4))\n(1, Node(current puzzle=[[5 2 7 4]\n [1 6 3 0]], parent_puzzle=None, h(node)=2, g(node)=2, f(node)=4))\n\nhas duplicate at index:  0\nDon't need replace\n===========sort list\npuzzle_list:\n(0, Node(current puzzle=[[1 2 3 4]\n [5 6 7 0]], parent_puzzle=None, h(node)=1, g(node)=3, f(node)=4))\n(1, Node(current puzzle=[[5 2 7 4]\n [1 6 3 0]], parent_puzzle=None, h(node)=2, g(node)=2, f(node)=4))\n\nget:  Node(current puzzle=[[1 2 3 4]\n [5 6 7 0]], parent_puzzle=None, h(node)=1, g(node)=3, f(node)=4)\npuzzle_list:\n(0, Node(current puzzle=[[5 2 7 4]\n [1 6 3 0]], parent_puzzle=None, h(node)=2, g(node)=2, f(node)=4))\n\n"
     ]
    }
   ]
  }
 ]
}