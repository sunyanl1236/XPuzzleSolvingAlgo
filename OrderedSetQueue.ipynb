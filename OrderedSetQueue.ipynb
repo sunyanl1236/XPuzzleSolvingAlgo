{
 "metadata": {
  "language_info": {
   "codemirror_mode": {
    "name": "ipython",
    "version": 3
   },
   "file_extension": ".py",
   "mimetype": "text/x-python",
   "name": "python",
   "nbconvert_exporter": "python",
   "pygments_lexer": "ipython3",
   "version": 3
  },
  "orig_nbformat": 2
 },
 "nbformat": 4,
 "nbformat_minor": 2,
 "cells": [
  {
   "cell_type": "code",
   "execution_count": null,
   "metadata": {},
   "outputs": [],
   "source": [
    "class OrderedSetQueue(Queue.Queue):\n",
    "    def _init(self, maxsize):\n",
    "        self.queue = OrderedSet()\n",
    "    def _put(self, node):\n",
    "        self.queue.add(node)\n",
    "    def _get(self):\n",
    "        return self.queue.pop()"
   ]
  }
 ]
}