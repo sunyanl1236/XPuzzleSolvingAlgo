{
 "cells": [
  {
   "cell_type": "code",
   "execution_count": 2,
   "metadata": {},
   "outputs": [],
   "source": [
    "import numpy as np\n",
    "%run utilityFunc.ipynb"
   ]
  },
  {
   "cell_type": "code",
   "execution_count": 3,
   "metadata": {},
   "outputs": [],
   "source": [
    "# heuristic function 0\n",
    "# a very simple heuristice which only return 0 if the state is the goal state and return 1 otherwise\n",
    "\n",
    "def simple_heuristic(puzzle, goalState):\n",
    "    goal1 = goalState[0]\n",
    "    goal2 = goalState[1]\n",
    "    if np.array_equal(puzzle, goal1)or np.array_equal(puzzle, goal2):\n",
    "        return 0\n",
    "    else:\n",
    "        return 1"
   ]
  },
  {
   "cell_type": "code",
   "execution_count": 4,
   "metadata": {},
   "outputs": [
    {
     "name": "stdout",
     "output_type": "stream",
     "text": [
      "0\n"
     ]
    }
   ],
   "source": [
    "puzzle = np.array([[1,2,3,4],[5,6,7,0]])\n",
    "goal1 = [np.array([[1,2,3,4],[5,6,7,0]]),np.array([[1,3,5,7],[2,4,6,0]])]\n",
    "print(simple_heuristic(puzzle,goal1))"
   ]
  },
  {
   "cell_type": "code",
   "execution_count": 5,
   "metadata": {},
   "outputs": [],
   "source": [
    "# heuristic function 1\n",
    "# Enhanced Manhattan distance, if the empty tile is not at corners use the usual Manhattan distance\n",
    "# if the empty tile is at the corners then apply rule 2 or rule 3 as well as usual Manhattan distance then find minimum of them\n",
    "\n",
    "def enhanced_Manhattan(puzzle, goalState):\n",
    "    distance_sum_1 = 0\n",
    "    distance_sum_2 = 0\n",
    "    distance_sum_3 = 0\n",
    "    distance_sum_4 = 0\n",
    "    x,y = puzzle.shape\n",
    "    shape = puzzle.shape\n",
    "    empty_tile_position = np.argwhere(puzzle == 0)\n",
    "    goal1 = goalState[0]\n",
    "    goal2 = goalState[1]\n",
    "    if np.array_equal(puzzle, goal1)or np.array_equal(puzzle, goal2):\n",
    "        return 0\n",
    "    # Checking if the empty tile is at the corner\n",
    "    if is_corner(shape,empty_tile_position):\n",
    "        # calculating normal manhattan distance & including rule 2, rule 3\n",
    "        swappablePositions = generateSwappablePositions(empty_tile_position,shape)\n",
    "        for i in range(x):\n",
    "            for j in range(y):\n",
    "                current_value = puzzle[i][j]\n",
    "                if current_value != 0:\n",
    "                    position_in_goal_state = np.argwhere(goal1 == current_value)\n",
    "                    if [i,j] in swappablePositions:\n",
    "                        cost1 = 1 + abs((position_in_goal_state[0][0] - empty_tile_position[0][0])) + abs((position_in_goal_state[0][1] - empty_tile_position[0][1]))\n",
    "                        cost2 = current_distance = abs((position_in_goal_state[0][0] - i)) + abs((position_in_goal_state[0][1] - j))\n",
    "                        minCost = min(cost1,cost2)\n",
    "                        distance_sum_2 += minCost\n",
    "                    else:\n",
    "                        current_distance = abs((position_in_goal_state[0][0] - i)) + abs((position_in_goal_state[0][1] - j))\n",
    "                        distance_sum_2 += current_distance\n",
    "        for i in range(x):\n",
    "            for j in range(y):\n",
    "                current_value = puzzle[i][j]\n",
    "                if current_value != 0:\n",
    "                    position_in_goal_state = np.argwhere(goal2 == current_value)\n",
    "                    if [i,j] in swappablePositions:\n",
    "                        cost1 = 1 + abs((position_in_goal_state[0][0] - empty_tile_position[0][0])) + abs((position_in_goal_state[0][1] - empty_tile_position[0][1]))\n",
    "                        cost2 = current_distance = abs((position_in_goal_state[0][0] - i)) + abs((position_in_goal_state[0][1] - j))\n",
    "                        minCost = min(cost1,cost2)\n",
    "                        distance_sum_3 += minCost\n",
    "                    else:\n",
    "                        current_distance = abs((position_in_goal_state[0][0] - i)) + abs((position_in_goal_state[0][1] - j))\n",
    "                        distance_sum_3 += current_distance\n",
    "        return min(distance_sum_2,distance_sum_3)\n",
    "        \n",
    "    else:\n",
    "        # calculating normal manhattan distance\n",
    "        for i in range(x):\n",
    "            for j in range(y):\n",
    "                current_value = puzzle[i][j]\n",
    "                if current_value != 0:\n",
    "                    position_in_goal_state = np.argwhere(goal1 == current_value)\n",
    "                    current_distance = abs((position_in_goal_state[0][0] - i)) + abs((position_in_goal_state[0][1] - j))\n",
    "                    distance_sum_1 += current_distance\n",
    "        for i in range(x):\n",
    "            for j in range(y):\n",
    "                current_value = puzzle[i][j]\n",
    "                if current_value != 0:\n",
    "                    position_in_goal_state = np.argwhere(goal2 == current_value)\n",
    "                    current_distance = abs((position_in_goal_state[0][0] - i)) + abs((position_in_goal_state[0][1] - j))\n",
    "                    distance_sum_4 += current_distance\n",
    "        return min(distance_sum_1,distance_sum_4)\n",
    "\n",
    "       \n",
    "def generateSwappablePositions(empty_tile_position, shape):\n",
    "    position = []\n",
    "    if empty_tile_position[0][0] == 0 and empty_tile_position[0][1] == 0:\n",
    "        position.append([0+1,0+1])\n",
    "        position.append([0,shape[1]-1])\n",
    "        position.append([shape[0]-1,shape[1]-1])\n",
    "        return position\n",
    "    if empty_tile_position[0][0] == 0 and empty_tile_position[0][1] == shape[1]-1:\n",
    "        position.append([0+1,shape[1]-1-1])\n",
    "        position.append([0,0])\n",
    "        position.append([shape[0]-1,0])\n",
    "        return position\n",
    "    if empty_tile_position[0][0] == shape[0]-1 and empty_tile_position[0][1] == 0:\n",
    "        position.append([shape[0]-1-1,0+1])\n",
    "        position.append([shape[0]-1,shape[1]-1])\n",
    "        position.append([0,shape[1]-1])\n",
    "        return position\n",
    "    if empty_tile_position[0][0] == shape[0]-1 and empty_tile_position[0][1] == shape[1]-1:\n",
    "        position.append([0,0])\n",
    "        position.append([shape[0]-1-1,shape[1]-1-1])\n",
    "        position.append([shape[0]-1,0])\n",
    "        return position"
   ]
  },
  {
   "cell_type": "code",
   "execution_count": 6,
   "metadata": {},
   "outputs": [],
   "source": [
    "# heuristic function 2\n",
    "# simple heuristic which evaluate based on each row of the array and each column of the array, \n",
    "# eg. if an element is now in row 1 but it should be in row 2, cost +1 if an element is now in column 1 but should be in column 2 cost +1\n",
    "# total cost = 1 + 1 = 2 \n",
    "\n",
    "\n",
    "def rowColumnEvaluation(puzzle, goalState):\n",
    "    h1 = 0\n",
    "    h2 = 0\n",
    "    x,y = puzzle.shape\n",
    "    goal1 = goalState[0]\n",
    "    goal2 = goalState[1]\n",
    "    # Evaluating heuristic for goal1\n",
    "    # Evaluating the rows\n",
    "    for i in range(x):\n",
    "        elementInThisRow = []\n",
    "        for j in range(y):\n",
    "             elementInThisRow.append(goal1[i][j])\n",
    "        for k in range(y):\n",
    "            if not puzzle[i][k] in elementInThisRow and puzzle[i][k] != 0:\n",
    "                h1 += 1\n",
    "    # Evaluating the columns\n",
    "    for i in range(y):\n",
    "        elementInThisColumn = []\n",
    "        for j in range(x):\n",
    "            elementInThisColumn.append(goal1[j][i])\n",
    "        for k in range(x):\n",
    "            if not puzzle[k][i] in elementInThisColumn and puzzle[k][i] != 0:\n",
    "                h1 += 1\n",
    "    # Evaluating heuristic for goal2\n",
    "    for i in range(x):\n",
    "        elementInThisRow = []\n",
    "        for j in range(y):\n",
    "             elementInThisRow.append(goal2[i][j])\n",
    "        for k in range(y):\n",
    "            if not puzzle[i][k] in elementInThisRow and puzzle[i][k] != 0:\n",
    "                h2 += 1\n",
    "    # Evaluating the columns\n",
    "    for i in range(y):\n",
    "        elementInThisColumn = []\n",
    "        for j in range(x):\n",
    "            elementInThisColumn.append(goal2[j][i])\n",
    "        for k in range(x):\n",
    "            if not puzzle[k][i] in elementInThisColumn and puzzle[k][i] != 0:\n",
    "                h2 += 1\n",
    "    return min(h1,h2)\n",
    "            \n",
    "\n",
    "\n",
    "\n"
   ]
  },
  {
   "cell_type": "code",
   "execution_count": 8,
   "metadata": {},
   "outputs": [
    {
     "name": "stdout",
     "output_type": "stream",
     "text": [
      "0\n"
     ]
    }
   ],
   "source": [
    "arr = np.array([[1,2,3,4],[5,6,7,0]])\n",
    "goal = [[[1,2,3,4],[5,6,7,0]],[[1,3,5,7],[2,4,6,0]]]\n",
    "print(enhanced_Manhattan(arr,goal))"
   ]
  },
  {
   "cell_type": "code",
   "execution_count": 24,
   "metadata": {},
   "outputs": [
    {
     "name": "stdout",
     "output_type": "stream",
     "text": [
      "4\n"
     ]
    }
   ],
   "source": [
    "arr1 = np.array([[3,4,2,1],[5,6,7,0]])\n",
    "goallist = [[[1,2,3,4],[5,6,7,0]],[[1,3,5,7],[2,4,6,0]]]\n",
    "\n",
    "print(rowColumnEvaluation(arr1,goallist))"
   ]
  }
 ],
 "metadata": {
  "kernelspec": {
   "display_name": "Python 3",
   "language": "python",
   "name": "python3"
  },
  "language_info": {
   "codemirror_mode": {
    "name": "ipython",
    "version": 3
   },
   "file_extension": ".py",
   "mimetype": "text/x-python",
   "name": "python",
   "nbconvert_exporter": "python",
   "pygments_lexer": "ipython3",
   "version": "3.8.3"
  }
 },
 "nbformat": 4,
 "nbformat_minor": 4
}
