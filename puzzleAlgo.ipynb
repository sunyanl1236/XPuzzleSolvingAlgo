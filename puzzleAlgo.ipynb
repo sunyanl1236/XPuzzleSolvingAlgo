{
 "cells": [
  {
   "cell_type": "code",
   "execution_count": 10,
   "metadata": {},
   "outputs": [
    {
     "output_type": "stream",
     "name": "stdout",
     "text": [
      "0\n2\n4\n"
     ]
    }
   ],
   "source": [
    "import numpy as np\n",
    "from copy import copy, deepcopy\n",
    "import queue\n",
    "from collections import OrderedDict\n",
    "import time\n",
    "%run utilityFunc.ipynb\n",
    "%run Node.ipynb\n",
    "%run HeuristicFuntions.ipynb\n",
    "%run CustomizedPriotiryQueue.ipynb"
   ]
  },
  {
   "cell_type": "code",
   "execution_count": 5,
   "metadata": {},
   "outputs": [
    {
     "output_type": "stream",
     "name": "stdout",
     "text": [
      "[[3 3]]\n"
     ]
    }
   ],
   "source": [
    "# read puzzle file\n",
    "f = open(\"puzzle.txt\", \"r\")\n",
    "puzzle_list = [] # contains list of nparray for each puzzle\n",
    "for line in f:\n",
    "    # print(line) #test\n",
    "    puzzle_nparr = np.array(list(line.split(\" \")), dtype=int)\n",
    "    dim1_len = int(len(puzzle_nparr)/4) #calculate length of first dimension\n",
    "    puzzle_nparr = puzzle_nparr.reshape(dim1_len, 4) #reshape nparray to 2*4 multi-dimentional array\n",
    "    puzzle_list.append(puzzle_nparr)\n",
    "# print(puzzle_list)\n",
    "\n",
    "\n",
    "puzzle_test = np.array([[3,0,1,4],[2, 6, 5, 7], [8, 9, 10, 11], [12,13,14,15]])\n",
    "puzzle_dim_shape = puzzle_test.shape\n",
    "sol = np.argwhere(puzzle_test == 15) # get index of specific element\n",
    "print(sol)"
   ]
  },
  {
   "cell_type": "code",
   "execution_count": 3,
   "metadata": {},
   "outputs": [],
   "source": [
    "# puzzle_test = regular_move(puzzle_dim_shape, sol, puzzle_test, \"right\")\n",
    "# puzzle_test = wrapping_move(puzzle_dim_shape, sol, puzzle_test)\n",
    "# puzzle_test = opposed_diagonally_move(puzzle_dim_shape, sol, puzzle_test)\n",
    "# puzzle_test = adjacent_diagonally_move(puzzle_dim_shape, sol, puzzle_test)\n",
    "\n",
    "# print(puzzle_test)"
   ]
  },
  {
   "cell_type": "code",
   "execution_count": 6,
   "metadata": {},
   "outputs": [],
   "source": [
    "def get_successor(puzzle_dim_shape, elt_position, puzzle, cost):\n",
    "    original_puzzle = deepcopy(puzzle)\n",
    "    successor = []\n",
    "    successor.append((regular_move(puzzle_dim_shape, elt_position, puzzle, \"up\"), original_puzzle, cost+1))\n",
    "    successor.append((regular_move(puzzle_dim_shape, elt_position, puzzle, \"down\"), original_puzzle, cost+1))\n",
    "    successor.append((regular_move(puzzle_dim_shape, elt_position, puzzle, \"left\"), original_puzzle, cost+1))\n",
    "    successor.append((regular_move(puzzle_dim_shape, elt_position, puzzle, \"right\"), original_puzzle, cost+1))\n",
    "    successor.append((wrapping_move(puzzle_dim_shape, elt_position, puzzle), original_puzzle, cost+2))\n",
    "    successor.append((opposed_diagonally_move(puzzle_dim_shape, elt_position, puzzle), original_puzzle, cost+3))\n",
    "    successor.append((adjacent_diagonally_move(puzzle_dim_shape, elt_position, puzzle), original_puzzle, cost+3))\n",
    "\n",
    "    successor = [i for i in successor if i[0] is not None] # eliminate None puzzle node\n",
    "    return successor\n",
    "\n",
    "\n",
    "# return a list including all goal state\n",
    "def generate_goal(puzzle):\n",
    "    goal = []\n",
    "    first_dim, second_dim = puzzle.shape\n",
    "    puzzle_flatten = puzzle.flatten() # flatten to one dimentinal\n",
    "    sorted_puzzle = np.sort(puzzle_flatten) # sort array\n",
    "    sorted_puzzle = np.append(sorted_puzzle[1:], 0)\n",
    "\n",
    "    goal1 = sorted_puzzle.reshape(first_dim, second_dim)\n",
    "    goal.append(goal1)\n",
    "    \n",
    "    goal2 = np.full((first_dim, second_dim), 0)\n",
    "    idx = 0\n",
    "    for s in range(second_dim):\n",
    "        for f in range(first_dim):\n",
    "            goal2[f, s] = sorted_puzzle[idx]\n",
    "            idx += 1\n",
    "    goal.append(goal2)\n",
    "    # print(goal)\n",
    "    return goal\n",
    "\n",
    "\n",
    "def check_goal(node, goal):\n",
    "    current_node = node.get_current_puzzle()\n",
    "    return (current_node == goal[0]).all() or (current_node == goal[1]).all()\n",
    "\n",
    "# def check_goal(node, goal):\n",
    "#     current_node = node.get_current_puzzle()\n",
    "#     return (current_node == goal).all()\n",
    "\n",
    "def is_exist_in_closedList(node, closed_list):\n",
    "    isExist = False\n",
    "    for curr_node in closed_list:\n",
    "        isExist = isExist or curr_node.__eq__(node)\n",
    "    return isExist\n",
    "\n",
    "\n",
    "# get_successor(puzzle_dim_shape, sol, puzzle_test, 0)\n",
    "# goal = generate_goal(puzzle_test)\n",
    "# puzzle_test = deepcopy(goal[1])\n",
    "# print(check_goal(puzzle_test, goal))\n",
    "\n"
   ]
  },
  {
   "cell_type": "code",
   "execution_count": 11,
   "metadata": {},
   "outputs": [
    {
     "output_type": "stream",
     "name": "stdout",
     "text": [
      "Node(current puzzle=[[1 2 3 4]\n [5 6 0 7]], parent_puzzle=None, h(node)=0, g(node)=0, f(node)=0)\nNode(current puzzle=[[1 2 0 4]\n [5 6 3 7]], parent_puzzle=[[1 2 3 4]\n [5 6 0 7]], h(node)=0, g(node)=1, f(node)=1)\nNode(current puzzle=[[1 2 3 4]\n [5 0 6 7]], parent_puzzle=[[1 2 3 4]\n [5 6 0 7]], h(node)=0, g(node)=1, f(node)=1)\nNode(current puzzle=[[1 2 3 4]\n [5 6 7 0]], parent_puzzle=[[1 2 3 4]\n [5 6 0 7]], h(node)=0, g(node)=1, f(node)=1)\n"
     ]
    }
   ],
   "source": [
    "#Uniform Cost Algo\n",
    "puzzle = puzzle_list[0]\n",
    "puzzle_dim_shape = puzzle.shape\n",
    "goal = generate_goal(puzzle)\n",
    "\n",
    "def uniform_cost_algo(start_puzzle):\n",
    "    start_time = time.time()\n",
    "    total_cost = 0\n",
    "    closed_list = set() # elt: (Node(node, parent_node, h_val, g_val))\n",
    "    open_queue = CustomizedPriotiryQueue(\"uniform_cost\") # list: [Node(node, parent_node, h_val, g_val), ...]\n",
    "    open_queue.put(Node(start_puzzle, None, 0, total_cost))\n",
    "    \n",
    "    while open_queue:\n",
    "        if time.time() - start_time >= 60.0:\n",
    "            return None\n",
    "        node = open_queue.get()\n",
    "        print(node)\n",
    "        puzzle = node.get_current_puzzle()\n",
    "        total_cost = node.get_g_val()\n",
    "\n",
    "        if not is_exist_in_closedList(node, closed_list):\n",
    "            closed_list.add(node)\n",
    "            \n",
    "            if check_goal(node, goal):\n",
    "                # ****************calculate the path\n",
    "                return\n",
    "            \n",
    "            elt_position = np.argwhere(puzzle == 0)\n",
    "            successor = get_successor(puzzle_dim_shape, elt_position, puzzle, total_cost)\n",
    "            for node_tuple in successor:\n",
    "                successor_node = Node(node_tuple[0], node_tuple[1], 0, node_tuple[2])\n",
    "                if not is_exist_in_closedList(successor_node, closed_list):\n",
    "                    open_queue.put(successor_node)\n",
    "    return None\n",
    "\n",
    "# test\n",
    "# uniform_cost_algo(puzzle)\n",
    "\n",
    "\n",
    "    "
   ]
  },
  {
   "cell_type": "code",
   "execution_count": 12,
   "metadata": {},
   "outputs": [
    {
     "output_type": "stream",
     "name": "stdout",
     "text": [
      "Node(current puzzle=[[1 2 3 4]\n [5 6 0 7]], parent_puzzle=None, h(node)=1, g(node)=0, f(node)=1)\nNode(current puzzle=[[1 2 3 4]\n [5 6 7 0]], parent_puzzle=[[1 2 3 4]\n [5 6 0 7]], h(node)=0, g(node)=1, f(node)=1)\n"
     ]
    }
   ],
   "source": [
    "# greedy best first(GBFS) algo\n",
    "def GBFS_algo(start_puzzle, goal_puzzle):\n",
    "    total_cost = 0\n",
    "    closed_list = set() # elt: (Node(node, parent_node, h_val, g_val))\n",
    "    open_queue = CustomizedPriotiryQueue(\"GBFS\")\n",
    "\n",
    "    #calculate heuristic for start puzzle\n",
    "    h = enhanced_Manhattan(start_puzzle, goal_puzzle) \n",
    "    open_queue.put(Node(start_puzzle, None, h, total_cost))\n",
    "    \n",
    "    while open_queue:\n",
    "        node = open_queue.get()\n",
    "        print(node)\n",
    "        puzzle = node.get_current_puzzle()\n",
    "        total_cost = node.get_g_val()\n",
    "\n",
    "        # fix!!!!!!!\n",
    "        if not is_exist_in_closedList(node, closed_list):\n",
    "            closed_list.add(node)\n",
    "            \n",
    "            if check_goal(node, goal):\n",
    "                return\n",
    "            \n",
    "            elt_position = np.argwhere(puzzle == 0)\n",
    "            successor = get_successor(puzzle_dim_shape, elt_position, puzzle, total_cost)\n",
    "            for node_tuple in successor:\n",
    "                h = enhanced_Manhattan(node_tuple[0], goal_puzzle) \n",
    "                successor_node = Node(node_tuple[0], node_tuple[1], h, node_tuple[2])\n",
    "                if not is_exist_in_closedList(successor_node, closed_list):\n",
    "                    open_queue.put(successor_node)\n",
    "    return None\n",
    "\n",
    "# test\n",
    "GBFS_algo(puzzle, goal)\n"
   ]
  },
  {
   "cell_type": "code",
   "execution_count": 13,
   "metadata": {},
   "outputs": [
    {
     "output_type": "stream",
     "name": "stdout",
     "text": [
      "Node(current puzzle=[[1 2 3 4]\n [5 6 0 7]], parent_puzzle=None, h(node)=1, g(node)=0, f(node)=1)\nNode(current puzzle=[[1 2 3 4]\n [5 6 7 0]], parent_puzzle=[[1 2 3 4]\n [5 6 0 7]], h(node)=0, g(node)=1, f(node)=1)\n"
     ]
    }
   ],
   "source": [
    "puzzle = puzzle_list[0]\n",
    "puzzle_dim_shape = puzzle.shape\n",
    "goal = generate_goal(puzzle)\n",
    "\n",
    "# A* algo\n",
    "def aStarAlgo(start_puzzle, goal_puzzle):\n",
    "    total_cost = 0\n",
    "    closed_list = set() # elt: (Node(node, parent_node, h_val, g_val))\n",
    "    open_queue = CustomizedPriotiryQueue(\"aStar\")\n",
    "\n",
    "    #calculate heuristic for start puzzle\n",
    "    h = enhanced_Manhattan(start_puzzle, goal_puzzle) \n",
    "    open_queue.put(Node(start_puzzle, None, h, total_cost))\n",
    "    \n",
    "    while open_queue:\n",
    "        node = open_queue.get()\n",
    "        print(node)\n",
    "        puzzle = node.get_current_puzzle()\n",
    "        total_cost = node.get_g_val()\n",
    "\n",
    "        if not is_exist_in_closedList(node, closed_list):\n",
    "            closed_list.add(node)\n",
    "            \n",
    "            if check_goal(node, goal):\n",
    "                return\n",
    "            \n",
    "            elt_position = np.argwhere(puzzle == 0)\n",
    "            successor = get_successor(puzzle_dim_shape, elt_position, puzzle, total_cost)\n",
    "            for node_tuple in successor:\n",
    "                h = enhanced_Manhattan(node_tuple[0], goal_puzzle) \n",
    "                successor_node = Node(node_tuple[0], node_tuple[1], h, node_tuple[2])\n",
    "                if not is_exist_in_closedList(successor_node, closed_list):\n",
    "                    open_queue.put(successor_node)\n",
    "    return None\n",
    "\n",
    "\n",
    "aStarAlgo(puzzle, goal)"
   ]
  },
  {
   "cell_type": "code",
   "execution_count": null,
   "metadata": {},
   "outputs": [],
   "source": []
  }
 ],
 "metadata": {
  "kernelspec": {
   "display_name": "Python 3",
   "language": "python",
   "name": "python3"
  },
  "language_info": {
   "codemirror_mode": {
    "name": "ipython",
    "version": 3
   },
   "file_extension": ".py",
   "mimetype": "text/x-python",
   "name": "python",
   "nbconvert_exporter": "python",
   "pygments_lexer": "ipython3",
   "version": "3.8.3-final"
  }
 },
 "nbformat": 4,
 "nbformat_minor": 2
}