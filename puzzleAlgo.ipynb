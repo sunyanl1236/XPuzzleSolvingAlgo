{
 "metadata": {
  "language_info": {
   "codemirror_mode": {
    "name": "ipython",
    "version": 3
   },
   "file_extension": ".py",
   "mimetype": "text/x-python",
   "name": "python",
   "nbconvert_exporter": "python",
   "pygments_lexer": "ipython3",
   "version": "3.8.3-final"
  },
  "orig_nbformat": 2,
  "kernelspec": {
   "name": "Python 3.8.3 64-bit (conda)",
   "display_name": "Python 3.8.3 64-bit (conda)",
   "metadata": {
    "interpreter": {
     "hash": "579282893146967bc5d17141c601e8a8b8ad4a0a2a5a6fe1c87b1000077400d7"
    }
   }
  }
 },
 "nbformat": 4,
 "nbformat_minor": 2,
 "cells": [
  {
   "cell_type": "code",
   "execution_count": 73,
   "metadata": {},
   "outputs": [],
   "source": [
    "import numpy as np\n",
    "from copy import copy, deepcopy\n",
    "import queue\n",
    "%run utilityFunc.ipynb\n",
    "%run Node.ipynb"
   ]
  },
  {
   "cell_type": "code",
   "execution_count": 74,
   "metadata": {},
   "outputs": [
    {
     "output_type": "stream",
     "name": "stdout",
     "text": [
      "[[3 3]]\n"
     ]
    }
   ],
   "source": [
    "# read puzzle file\n",
    "f = open(\"puzzle.txt\", \"r\")\n",
    "puzzle_list = [] # contains list of nparray for each puzzle\n",
    "for line in f:\n",
    "    # print(line) #test\n",
    "    puzzle_nparr = np.array(list(line.split(\" \")), dtype=int)\n",
    "    dim1_len = int(len(puzzle_nparr)/4) #calculate length of first dimension\n",
    "    puzzle_nparr = puzzle_nparr.reshape(dim1_len, 4) #reshape nparray to 2*4 multi-dimentional array\n",
    "    puzzle_list.append(puzzle_nparr)\n",
    "# print(puzzle_list)\n",
    "\n",
    "\n",
    "puzzle_test = np.array([[3,0,1,4],[2, 6, 5, 7], [8, 9, 10, 11], [12,13,14,15]])\n",
    "puzzle_dim_shape = puzzle_test.shape\n",
    "sol = np.argwhere(puzzle_test == 15) # get index of specific element\n",
    "print(sol)"
   ]
  },
  {
   "cell_type": "code",
   "execution_count": 75,
   "metadata": {},
   "outputs": [
    {
     "output_type": "stream",
     "name": "stdout",
     "text": [
      "[[ 3  0  1  4]\n [ 2  6  5  7]\n [ 8  9 10 11]\n [12 13 14 15]]\n"
     ]
    }
   ],
   "source": [
    "# puzzle_test = regular_move(puzzle_dim_shape, sol, puzzle_test, \"right\")\n",
    "# puzzle_test = wrapping_move(puzzle_dim_shape, sol, puzzle_test)\n",
    "# puzzle_test = opposed_diagonally_move(puzzle_dim_shape, sol, puzzle_test)\n",
    "# puzzle_test = adjacent_diagonally_move(puzzle_dim_shape, sol, puzzle_test)\n",
    "\n",
    "print(puzzle_test)"
   ]
  },
  {
   "cell_type": "code",
   "execution_count": 76,
   "metadata": {},
   "outputs": [
    {
     "output_type": "stream",
     "name": "stdout",
     "text": [
      "[(array([[ 3,  0,  1,  4],\n       [ 2,  6,  5,  7],\n       [ 8,  9, 10, 15],\n       [12, 13, 14, 11]]), array([[ 3,  0,  1,  4],\n       [ 2,  6,  5,  7],\n       [ 8,  9, 10, 11],\n       [12, 13, 14, 15]]), 1), (array([[ 3,  0,  1,  4],\n       [ 2,  6,  5,  7],\n       [ 8,  9, 10, 11],\n       [12, 13, 15, 14]]), array([[ 3,  0,  1,  4],\n       [ 2,  6,  5,  7],\n       [ 8,  9, 10, 11],\n       [12, 13, 14, 15]]), 1), (array([[ 3,  0,  1,  4],\n       [ 2,  6,  5,  7],\n       [ 8,  9, 10, 11],\n       [15, 13, 14, 12]]), array([[ 3,  0,  1,  4],\n       [ 2,  6,  5,  7],\n       [ 8,  9, 10, 11],\n       [12, 13, 14, 15]]), 2), (array([[15,  0,  1,  4],\n       [ 2,  6,  5,  7],\n       [ 8,  9, 10, 11],\n       [12, 13, 14,  3]]), array([[ 3,  0,  1,  4],\n       [ 2,  6,  5,  7],\n       [ 8,  9, 10, 11],\n       [12, 13, 14, 15]]), 3), (array([[ 3,  0,  1,  4],\n       [ 2,  6,  5,  7],\n       [ 8,  9, 15, 11],\n       [12, 13, 14, 10]]), array([[ 3,  0,  1,  4],\n       [ 2,  6,  5,  7],\n       [ 8,  9, 10, 11],\n       [12, 13, 14, 15]]), 3)]\n(1, Node(current puzzle=[[ 3  0  1  4]\n [ 2  6  5  7]\n [ 8  9 10 15]\n [12 13 14 11]], parent_puzzle=[[ 3  0  1  4]\n [ 2  6  5  7]\n [ 8  9 10 11]\n [12 13 14 15]], heuristic value=0))\n(1, Node(current puzzle=[[ 3  0  1  4]\n [ 2  6  5  7]\n [ 8  9 10 11]\n [12 13 15 14]], parent_puzzle=[[ 3  0  1  4]\n [ 2  6  5  7]\n [ 8  9 10 11]\n [12 13 14 15]], heuristic value=0))\n(2, Node(current puzzle=[[ 3  0  1  4]\n [ 2  6  5  7]\n [ 8  9 10 11]\n [15 13 14 12]], parent_puzzle=[[ 3  0  1  4]\n [ 2  6  5  7]\n [ 8  9 10 11]\n [12 13 14 15]], heuristic value=0))\n(3, Node(current puzzle=[[15  0  1  4]\n [ 2  6  5  7]\n [ 8  9 10 11]\n [12 13 14  3]], parent_puzzle=[[ 3  0  1  4]\n [ 2  6  5  7]\n [ 8  9 10 11]\n [12 13 14 15]], heuristic value=0))\n(3, Node(current puzzle=[[ 3  0  1  4]\n [ 2  6  5  7]\n [ 8  9 15 11]\n [12 13 14 10]], parent_puzzle=[[ 3  0  1  4]\n [ 2  6  5  7]\n [ 8  9 10 11]\n [12 13 14 15]], heuristic value=0))\n"
     ]
    },
    {
     "output_type": "execute_result",
     "data": {
      "text/plain": [
       "<queue.PriorityQueue at 0x131edc8da90>"
      ]
     },
     "metadata": {},
     "execution_count": 76
    }
   ],
   "source": [
    "def get_successor(puzzle_dim_shape, elt_position, puzzle, cost):\n",
    "    original_puzzle = deepcopy(puzzle)\n",
    "    successor_prio_queue = queue.PriorityQueue()\n",
    "    successor = []\n",
    "    # (successor_node, parent_node, total_cost)\n",
    "    successor.append((regular_move(puzzle_dim_shape, elt_position, puzzle, \"up\"), original_puzzle, cost+1))\n",
    "    successor.append((regular_move(puzzle_dim_shape, elt_position, puzzle, \"down\"), original_puzzle, cost+1))\n",
    "    successor.append((regular_move(puzzle_dim_shape, elt_position, puzzle, \"left\"), original_puzzle, cost+1))\n",
    "    successor.append((regular_move(puzzle_dim_shape, elt_position, puzzle, \"right\"), original_puzzle, cost+1))\n",
    "    successor.append((wrapping_move(puzzle_dim_shape, elt_position, puzzle), original_puzzle, cost+2))\n",
    "    successor.append((opposed_diagonally_move(puzzle_dim_shape, elt_position, puzzle), original_puzzle, cost+3))\n",
    "    successor.append((adjacent_diagonally_move(puzzle_dim_shape, elt_position, puzzle), original_puzzle, cost+3))\n",
    "\n",
    "    successor = [i for i in successor if i[0] is not None] # eliminate None puzzle node\n",
    "    print(successor) # test\n",
    "\n",
    "    for tup in successor:\n",
    "        successor_prio_queue.put((tup[2], Node(tup[0], tup[1], 0)))\n",
    "    for q_item in successor_prio_queue.queue:\n",
    "        print(q_item)\n",
    "    return successor_prio_queue\n",
    "\n",
    "\n",
    "# return a list including all goal state\n",
    "def generate_goal(puzzle):\n",
    "    goal = []\n",
    "    first_dim, second_dim = puzzle.shape\n",
    "    puzzle_flatten = puzzle.flatten() # flatten to one dimentinal\n",
    "    sorted_puzzle = np.sort(puzzle_flatten) # sort array\n",
    "    sorted_puzzle = np.append(sorted_puzzle[1:], 0)\n",
    "\n",
    "    goal1 = sorted_puzzle.reshape(first_dim, second_dim)\n",
    "    goal.append(goal1)\n",
    "    \n",
    "    goal2 = np.full((first_dim, second_dim), 0)\n",
    "    idx = 0\n",
    "    for s in range(second_dim):\n",
    "        for f in range(first_dim):\n",
    "            goal2[f, s] = sorted_puzzle[idx]\n",
    "            idx += 1\n",
    "    goal.append(goal2)\n",
    "    # print(goal)\n",
    "    return goal\n",
    "\n",
    "\n",
    "def check_goal(node, goal):\n",
    "    return np.array_equal(node, goal[0]) or np.array_equal(node, goal[1])\n",
    "\n",
    "get_successor(puzzle_dim_shape, sol, puzzle_test, 0)\n",
    "# goal = generate_goal(puzzle_test)\n",
    "# puzzle_test = deepcopy(goal[1])\n",
    "# print(check_goal(puzzle_test, goal))\n",
    "\n"
   ]
  },
  {
   "cell_type": "code",
   "execution_count": null,
   "metadata": {},
   "outputs": [],
   "source": [
    "#Uniform Cost Algo\n",
    "puzzle = puzzle_list[0]\n",
    "def uniform_cost_algo(start_puzzle):\n",
    "    closed_list = []\n",
    "    open_queue = queue.PriorityQueue() # elt: (cost_val, Node(node, parent_node, h_val))\n",
    "    open_queue.put(0, Node(start_puzzle, None, 0))\n",
    "\n",
    "    while open_queue:\n",
    "        cost, node = open_queue.get()\n",
    "        if \n",
    "\n",
    "    "
   ]
  }
 ]
}